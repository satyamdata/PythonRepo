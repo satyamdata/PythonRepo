{
  "nbformat": 4,
  "nbformat_minor": 0,
  "metadata": {
    "colab": {
      "provenance": []
    },
    "kernelspec": {
      "name": "python3",
      "display_name": "Python 3"
    },
    "language_info": {
      "name": "python"
    }
  },
  "cells": [
    {
      "cell_type": "code",
      "execution_count": 4,
      "metadata": {
        "colab": {
          "base_uri": "https://localhost:8080/"
        },
        "id": "k5utZKWso1fU",
        "outputId": "0630c517-127f-48bc-8a55-314ac93e233e"
      },
      "outputs": [
        {
          "output_type": "stream",
          "name": "stdout",
          "text": [
            "Enter a string: satyam\n",
            "Characters at odd positions: aym\n"
          ]
        }
      ],
      "source": [
        "x = input(\"Enter a string: \")\n",
        "\n",
        "odd_characters = \"\"\n",
        "for i in range(len(x)):\n",
        "    if i % 2 != 0:\n",
        "        odd_characters += x[i]\n",
        "\n",
        "print(\"Characters at odd positions:\", odd_characters)"
      ]
    },
    {
      "cell_type": "code",
      "source": [
        "x = input(\"Enter a string: \")\n",
        "consonants = \"bcdfghjklmnpqrstvwxyzBCDFGHJKLMNPQRSTVWXYZ\"\n",
        "count = 0\n",
        "\n",
        "for char in x:\n",
        "    if char in consonants:\n",
        "        count += 1\n",
        "\n",
        "print(\"Total number of consonants:\", count)"
      ],
      "metadata": {
        "colab": {
          "base_uri": "https://localhost:8080/"
        },
        "id": "JEYzIZQnCiB5",
        "outputId": "7b452879-6b2d-4e3c-8233-7c194f91ebed"
      },
      "execution_count": 6,
      "outputs": [
        {
          "output_type": "stream",
          "name": "stdout",
          "text": [
            "Enter a string: ravimohan\n",
            "Total number of consonants: 5\n"
          ]
        }
      ]
    },
    {
      "cell_type": "code",
      "source": [
        "divisible_by_seven = []\n",
        "\n",
        "\n",
        "for number in range(1, 100):\n",
        "    if number % 7 == 0:\n",
        "        divisible_by_seven.append(number)\n",
        "\n",
        "print(\"Numbers divisible by 7 from 1 to 100:\", divisible_by_seven)"
      ],
      "metadata": {
        "colab": {
          "base_uri": "https://localhost:8080/"
        },
        "id": "F6ZkowpRD0OB",
        "outputId": "e02b1245-0402-4527-a83f-3f0e1f096a3d"
      },
      "execution_count": 20,
      "outputs": [
        {
          "output_type": "stream",
          "name": "stdout",
          "text": [
            "Numbers divisible by 7 from 1 to 100: [7, 14, 21, 28, 35, 42, 49, 56, 63, 70, 77, 84, 91, 98]\n"
          ]
        }
      ]
    },
    {
      "cell_type": "code",
      "source": [
        "divisible_by_seven_nine = []\n",
        "for number in range(1, 100):\n",
        "    if number % 7 == 0 and number % 9 == 0:\n",
        "        divisible_by_seven_nine.append(number)\n",
        "\n",
        "print(\"Numbers divisible by 7 and 9 from 1 to 100:\", divisible_by_seven_nine)"
      ],
      "metadata": {
        "colab": {
          "base_uri": "https://localhost:8080/"
        },
        "id": "_7HBHJdDETdB",
        "outputId": "2b46f578-f56b-40d1-b8ce-698bb0efa307"
      },
      "execution_count": 22,
      "outputs": [
        {
          "output_type": "stream",
          "name": "stdout",
          "text": [
            "Numbers divisible by 7 and 9 from 1 to 100: [63]\n"
          ]
        }
      ]
    },
    {
      "cell_type": "code",
      "source": [
        "even_numbers = []\n",
        "\n",
        "for number in range(1, 100):\n",
        "    if number % 2 == 0:\n",
        "        even_numbers.append(number)\n",
        "\n",
        "print(\"Even numbers between 1 and 100:\", even_numbers)"
      ],
      "metadata": {
        "colab": {
          "base_uri": "https://localhost:8080/"
        },
        "id": "ncbrm3VDFhA1",
        "outputId": "865b8c8c-f851-4650-8d71-1f489858b3b6"
      },
      "execution_count": 25,
      "outputs": [
        {
          "output_type": "stream",
          "name": "stdout",
          "text": [
            "Even numbers between 1 and 100: [2, 4, 6, 8, 10, 12, 14, 16, 18, 20, 22, 24, 26, 28, 30, 32, 34, 36, 38, 40, 42, 44, 46, 48, 50, 52, 54, 56, 58, 60, 62, 64, 66, 68, 70, 72, 74, 76, 78, 80, 82, 84, 86, 88, 90, 92, 94, 96, 98]\n"
          ]
        }
      ]
    },
    {
      "cell_type": "code",
      "source": [
        "divisible_by_three = []\n",
        "\n",
        "for number in range(1, 100):\n",
        "    digit_sum = sum(int(digit) for digit in str(number))\n",
        "    if digit_sum % 3 == 0:\n",
        "        divisible_by_three.append(number)\n",
        "\n",
        "print(\"Numbers divisible by 3 between 1 and 100:\", divisible_by_three)"
      ],
      "metadata": {
        "colab": {
          "base_uri": "https://localhost:8080/"
        },
        "id": "1mTdUpzdGB7x",
        "outputId": "6e5d258e-11eb-4d2c-9c0d-65886d57a99c"
      },
      "execution_count": 26,
      "outputs": [
        {
          "output_type": "stream",
          "name": "stdout",
          "text": [
            "Numbers divisible by 3 between 1 and 100: [3, 6, 9, 12, 15, 18, 21, 24, 27, 30, 33, 36, 39, 42, 45, 48, 51, 54, 57, 60, 63, 66, 69, 72, 75, 78, 81, 84, 87, 90, 93, 96, 99]\n"
          ]
        }
      ]
    },
    {
      "cell_type": "code",
      "source": [
        "number1 = int(input(\"Enter the first number: \"))\n",
        "number2 = int(input(\"Enter the second number: \"))\n",
        "\n",
        "if number1 % 4 == 0 and number2 % 6 == 0:\n",
        "    print(f\"{number1} is divisible by 4 and {number2} is divisible by 6.\")\n",
        "else:\n",
        "    print(f\"{number1} is not divisible by 4 and/or {number2} is not divisible by 6.\")"
      ],
      "metadata": {
        "colab": {
          "base_uri": "https://localhost:8080/"
        },
        "id": "Awg19ajLGrdK",
        "outputId": "9855d52a-606a-43b6-effb-5ee11ed9ec8b"
      },
      "execution_count": 27,
      "outputs": [
        {
          "output_type": "stream",
          "name": "stdout",
          "text": [
            "Enter the first number: 44\n",
            "Enter the second number: 66\n",
            "44 is divisible by 4 and 66 is divisible by 6.\n"
          ]
        }
      ]
    },
    {
      "cell_type": "code",
      "source": [
        "number1 = int(input(\"Enter the first number: \"))\n",
        "number2 = int(input(\"Enter the second number: \"))\n",
        "\n",
        "if number1 % 4 == 0 and number2 % 6 == 0:\n",
        "    if number1 % 4 == 0 and number2 % 6 == 0:\n",
        "        print(f\"{number1} is divisible by 4 and {number2} is divisible by 6.\")\n",
        "    else:\n",
        "        print(f\"{number1} is divisible by 4 but {number2} is not divisible by 6.\")\n",
        "elif number1 % 4 == 0:\n",
        "    print(f\"{number1} is divisible by 4 but {number2} is not divisible by 6.\")\n",
        "elif number2 % 6 == 0:\n",
        "    print(f\"{number2} is divisible by 6 but {number1} is not divisible by 4.\")\n",
        "else:\n",
        "    print(f\"Neither {number1} is divisible by 4 nor {number2} is divisible by 6.\")"
      ],
      "metadata": {
        "colab": {
          "base_uri": "https://localhost:8080/"
        },
        "id": "o_dX7IQGHQOd",
        "outputId": "35e2de2d-7472-4e2d-b6a8-bcc6977ad33f"
      },
      "execution_count": 31,
      "outputs": [
        {
          "output_type": "stream",
          "name": "stdout",
          "text": [
            "Enter the first number: 44\n",
            "Enter the second number: 64\n",
            "44 is divisible by 4 but 64 is not divisible by 6.\n"
          ]
        }
      ]
    },
    {
      "cell_type": "code",
      "source": [
        "variable = 35\n",
        "\n",
        "if variable > 20:\n",
        "    print(\"The value of the variable is greater than 20.\")\n",
        "\n",
        "if variable == 23:\n",
        "    print(\"The value of the variable is 23.\")\n",
        "\n",
        "if 30 < variable < 40:\n",
        "    print(\"The value of the variable is greater than 30 and less than 40.\")"
      ],
      "metadata": {
        "colab": {
          "base_uri": "https://localhost:8080/"
        },
        "id": "oAYnlFeaIRer",
        "outputId": "d77b9a93-56d1-4bb6-ad32-23d7c1f13d0d"
      },
      "execution_count": 32,
      "outputs": [
        {
          "output_type": "stream",
          "name": "stdout",
          "text": [
            "The value of the variable is greater than 20.\n",
            "The value of the variable is greater than 30 and less than 40.\n"
          ]
        }
      ]
    },
    {
      "cell_type": "code",
      "source": [],
      "metadata": {
        "id": "pKgZDPttIxJQ"
      },
      "execution_count": null,
      "outputs": []
    }
  ]
}