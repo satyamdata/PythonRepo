{
  "nbformat": 4,
  "nbformat_minor": 0,
  "metadata": {
    "colab": {
      "provenance": []
    },
    "kernelspec": {
      "name": "python3",
      "display_name": "Python 3"
    },
    "language_info": {
      "name": "python"
    }
  },
  "cells": [
    {
      "cell_type": "code",
      "execution_count": null,
      "metadata": {
        "colab": {
          "base_uri": "https://localhost:8080/"
        },
        "id": "AQyVBHi6Amtq",
        "outputId": "9b157c24-bd63-4c51-d1a6-43243ed6a62e"
      },
      "outputs": [
        {
          "output_type": "stream",
          "name": "stdout",
          "text": [
            "num2 is gratest number\n"
          ]
        }
      ],
      "source": [
        "num1 = 4\n",
        "num2 = 6\n",
        "\n",
        "if (num1 > num2):\n",
        "    print(\"num1 is greater than num2\")\n",
        "else:\n",
        "    print(\"num2 is gratest number\")"
      ]
    },
    {
      "cell_type": "code",
      "source": [
        "num1 = 4\n",
        "num2 = 9\n",
        "num3 = 8\n",
        "if (num1>num2>num3):\n",
        "    print(\"num1 is greater than num2,num3\")\n",
        "elif(num2<num3):\n",
        "    print(\"num2 is greater than num3\")\n",
        "else:\n",
        "    print(\"num2 is greatest number\")"
      ],
      "metadata": {
        "colab": {
          "base_uri": "https://localhost:8080/"
        },
        "id": "FfHA-em1FVUl",
        "outputId": "c1fe357d-794b-461b-8868-cfc5580b29d3"
      },
      "execution_count": null,
      "outputs": [
        {
          "output_type": "stream",
          "name": "stdout",
          "text": [
            "num2 is greatest number\n"
          ]
        }
      ]
    },
    {
      "cell_type": "code",
      "source": [
        "X=18\n",
        "if(type(X)is int):\n",
        "    print(\"abc\")\n",
        "\n"
      ],
      "metadata": {
        "colab": {
          "base_uri": "https://localhost:8080/"
        },
        "id": "hfJBgkPcHQDZ",
        "outputId": "2513995e-af97-4a1f-8e26-3449312c03f2"
      },
      "execution_count": null,
      "outputs": [
        {
          "output_type": "stream",
          "name": "stdout",
          "text": [
            "abc\n"
          ]
        }
      ]
    },
    {
      "cell_type": "code",
      "source": [
        "X=18\n",
        "if(type(X)is int):\n",
        "    print(\"abc\")\n",
        "\n"
      ],
      "metadata": {
        "colab": {
          "base_uri": "https://localhost:8080/"
        },
        "id": "9YCi9KbnIm8j",
        "outputId": "f84a11a8-7b85-4cbf-93b2-c0be411cf061"
      },
      "execution_count": null,
      "outputs": [
        {
          "output_type": "stream",
          "name": "stdout",
          "text": [
            "abc\n"
          ]
        }
      ]
    },
    {
      "cell_type": "code",
      "source": [
        "city= input(\"Enter a string: \")\n",
        "city[-1]\n"
      ],
      "metadata": {
        "colab": {
          "base_uri": "https://localhost:8080/",
          "height": 53
        },
        "id": "sj9R8VB3LF0s",
        "outputId": "764f14b4-4c6e-41ef-dd73-de8b454e67cb"
      },
      "execution_count": 1,
      "outputs": [
        {
          "name": "stdout",
          "output_type": "stream",
          "text": [
            "Enter a string: shyam\n"
          ]
        },
        {
          "output_type": "execute_result",
          "data": {
            "text/plain": [
              "'m'"
            ],
            "application/vnd.google.colaboratory.intrinsic+json": {
              "type": "string"
            }
          },
          "metadata": {},
          "execution_count": 1
        }
      ]
    },
    {
      "cell_type": "code",
      "source": [
        "city=input(\"enter a string:\")\n",
        "city[2]\n"
      ],
      "metadata": {
        "colab": {
          "base_uri": "https://localhost:8080/",
          "height": 53
        },
        "id": "d9sPXH0JM5y2",
        "outputId": "279e1a65-863b-472d-9b53-04d42260c8d4"
      },
      "execution_count": 2,
      "outputs": [
        {
          "name": "stdout",
          "output_type": "stream",
          "text": [
            "enter a string:jaipur\n"
          ]
        },
        {
          "output_type": "execute_result",
          "data": {
            "text/plain": [
              "'i'"
            ],
            "application/vnd.google.colaboratory.intrinsic+json": {
              "type": "string"
            }
          },
          "metadata": {},
          "execution_count": 2
        }
      ]
    },
    {
      "cell_type": "code",
      "source": [
        "num=int(input(\"enter the number:\"))\n",
        "if (num%2)== 0:\n",
        "    print(\"number is even\")\n",
        "else:\n",
        "    print(\"number is odd\")5"
      ],
      "metadata": {
        "colab": {
          "base_uri": "https://localhost:8080/"
        },
        "id": "rbPvNfD_38TG",
        "outputId": "4f646b4f-eabd-4739-88bf-bfa3b42fbaf3"
      },
      "execution_count": 4,
      "outputs": [
        {
          "output_type": "stream",
          "name": "stdout",
          "text": [
            "enter the number:555\n",
            "number is odd\n"
          ]
        }
      ]
    }
  ]
}